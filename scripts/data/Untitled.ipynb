{
 "cells": [
  {
   "cell_type": "code",
   "execution_count": 5,
   "id": "8b879d63-631f-4f0d-abae-ea7f9b2ce04d",
   "metadata": {},
   "outputs": [
    {
     "data": {
      "text/plain": [
       "2023-10-01    128.7083\n",
       "2024-01-01    129.5261\n",
       "2024-04-01    130.0373\n",
       "2024-07-01    130.8551\n",
       "2024-10-01    131.5707\n",
       "dtype: float64"
      ]
     },
     "execution_count": 5,
     "metadata": {},
     "output_type": "execute_result"
    }
   ],
   "source": [
    "from fetch_fred import get_fred_series\n",
    "\n",
    "series_id = \"NZLCPIALLQINMEI\"  # New Zealand CPI from FRED\n",
    "cpi_nz = get_fred_series(series_id)\n",
    "\n",
    "cpi_nz.tail()"
   ]
  },
  {
   "cell_type": "code",
   "execution_count": null,
   "id": "51923198-8ce9-4074-a8da-9249ea37db1c",
   "metadata": {},
   "outputs": [],
   "source": []
  },
  {
   "cell_type": "code",
   "execution_count": null,
   "id": "8f32fa27-167c-46d7-a133-72e9802607c3",
   "metadata": {},
   "outputs": [],
   "source": []
  }
 ],
 "metadata": {
  "kernelspec": {
   "display_name": "Python 3 (ipykernel)",
   "language": "python",
   "name": "python3"
  },
  "language_info": {
   "codemirror_mode": {
    "name": "ipython",
    "version": 3
   },
   "file_extension": ".py",
   "mimetype": "text/x-python",
   "name": "python",
   "nbconvert_exporter": "python",
   "pygments_lexer": "ipython3",
   "version": "3.13.3"
  }
 },
 "nbformat": 4,
 "nbformat_minor": 5
}
