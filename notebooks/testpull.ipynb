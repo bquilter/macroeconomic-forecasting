{
 "cells": [
  {
   "cell_type": "code",
   "execution_count": 1,
   "id": "b9eff6d8-ef55-467e-b731-061795bbf633",
   "metadata": {},
   "outputs": [
    {
     "name": "stdout",
     "output_type": "stream",
     "text": [
      "📂 Loaded from cache: data\\raw\\NZLCPIALLQINMEI.csv\n"
     ]
    },
    {
     "data": {
      "text/plain": [
       "date\n",
       "2023-10-01    128.7083\n",
       "2024-01-01    129.5261\n",
       "2024-04-01    130.0373\n",
       "2024-07-01    130.8551\n",
       "2024-10-01    131.5707\n",
       "Name: value, dtype: float64"
      ]
     },
     "execution_count": 1,
     "metadata": {},
     "output_type": "execute_result"
    }
   ],
   "source": [
    "import sys\n",
    "from pathlib import Path\n",
    "sys.path.append(str(Path().resolve().parent))  # Add project root to path\n",
    "\n",
    "from scripts.data.fetch_fred import get_fred_series, save_series_to_csv, load_series_from_csv, get_or_fetch_series\n",
    "\n",
    "series_id = \"NZLCPIALLQINMEI\"\n",
    "cpi_nz = get_or_fetch_series(series_id)\n",
    "\n",
    "cpi_nz.tail()\n"
   ]
  }
 ],
 "metadata": {
  "kernelspec": {
   "display_name": "Python 3 (ipykernel)",
   "language": "python",
   "name": "python3"
  },
  "language_info": {
   "codemirror_mode": {
    "name": "ipython",
    "version": 3
   },
   "file_extension": ".py",
   "mimetype": "text/x-python",
   "name": "python",
   "nbconvert_exporter": "python",
   "pygments_lexer": "ipython3",
   "version": "3.13.3"
  }
 },
 "nbformat": 4,
 "nbformat_minor": 5
}
