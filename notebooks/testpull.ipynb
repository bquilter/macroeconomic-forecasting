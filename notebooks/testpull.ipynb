{
 "cells": [
  {
   "cell_type": "code",
   "execution_count": 4,
   "id": "b9eff6d8-ef55-467e-b731-061795bbf633",
   "metadata": {},
   "outputs": [
    {
     "name": "stdout",
     "output_type": "stream",
     "text": [
      "📂 Loaded from cache: data\\raw\\NZLCPIALLQINMEI.csv\n"
     ]
    }
   ],
   "source": [
    "import sys\n",
    "import pandas as pd\n",
    "from pathlib import Path\n",
    "sys.path.append(str(Path().resolve().parent))  # Add project root to path\n",
    "\n",
    "from scripts.data.fetch_fred import get_fred_series, save_series_to_csv, load_series_from_csv, get_or_fetch_series\n",
    "\n",
    "series_id = \"NZLCPIALLQINMEI\"\n",
    "cpi_nz = get_or_fetch_series(series_id)\n",
    "\n",
    "# Convert cpi_nz Series to DataFrame\n",
    "df = cpi_nz.to_frame(name=\"value\")\n",
    "\n",
    "# Remove duplicate indices\n",
    "df = df[~df.index.duplicated(keep='first')]\n",
    "\n",
    "# Drop nulls\n",
    "df = df.dropna()\n",
    "\n",
    "# Rename the column\n",
    "df = df.rename(columns={\"value\": \"cpi\"})\n",
    "\n",
    "Path(\"data/processed\").mkdir(parents=True, exist_ok=True)\n",
    "\n",
    "#df.tail()"
   ]
  },
  {
   "cell_type": "code",
   "execution_count": null,
   "id": "4711d09e-377d-47f9-8f58-de90d5059729",
   "metadata": {},
   "outputs": [],
   "source": []
  }
 ],
 "metadata": {
  "kernelspec": {
   "display_name": ".venv",
   "language": "python",
   "name": "python3"
  },
  "language_info": {
   "codemirror_mode": {
    "name": "ipython",
    "version": 3
   },
   "file_extension": ".py",
   "mimetype": "text/x-python",
   "name": "python",
   "nbconvert_exporter": "python",
   "pygments_lexer": "ipython3",
   "version": "3.13.3"
  }
 },
 "nbformat": 4,
 "nbformat_minor": 5
}
